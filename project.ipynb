{
 "cells": [
  {
   "cell_type": "markdown",
   "metadata": {},
   "source": [
    "# Project Title (<= 41 Characters) (Title Case)"
   ]
  },
  {
   "cell_type": "code",
   "execution_count": null,
   "metadata": {},
   "outputs": [],
   "source": [
    "# This is a code cell without any tag. You can put convenience code here,\n",
    "# but it won't be included in any way in the final project.\n",
    "# For example, to be able to run tests locally in the notebook\n",
    "# you need to install the following:\n",
    "# install.packages(\"devtools\")\n",
    "# install.packages(testthat\")\n",
    "# devtools::install_github('datacamp/IRkernel.testthat')\n",
    "\n",
    "# This allows .... to be used as placeholder value in the sample code cells\n",
    ".... <- NULL "
   ]
  },
  {
   "cell_type": "markdown",
   "metadata": {},
   "source": [
    "Welcome to the official authoring notebook for your DataCamp project! This notebook, named `project.ipynb`, contains a variety of tagged cells. Tags are in the top left corner of cells. Here's an example of a tag:\n",
    "\n",
    "![tagged_cell_img](https://i.imgur.com/H2TB22Y.png)\n",
    "\n",
    "These tagged cells are processed by software written by our talented DataCamp engineers and a [DataCamp project](https://www.datacamp.com/projects) is the product.\n",
    "\n",
    "<img src=\"https://i.imgur.com/7mqMP5E.jpg\" alt=\"DataCamp project interface\" width=\"600px\"/>\n",
    "\n",
    "Before you start working on this notebook, please read the `project.ipynb` notebook format in our [documentation](https://instructor-support.datacamp.com/projects/datacamp-projects-jupyter-notebook). Each type of tagged cell is described there.\n",
    "\n",
    "When you first open this notebook, you will find a template for each of the tagged cells for all tasks in your project. Please abide by the content rules to ensure students have a consistent and smooth learning experience.\n",
    "\n",
    "If you can't find an answer in the documentation or in this template, please [create an Issue](https://help.github.com/articles/creating-an-issue/) in your project's GitHub repository and your DataCamp contact will respond as soon as possible.\n",
    "\n",
    "Happy creating!\n",
    "\n",
    "*Again, this cell won't be included in the live version of the project because it has no tag.*"
   ]
  },
  {
   "cell_type": "markdown",
   "metadata": {
    "tags": [
     "type:NotebookTask"
    ]
   },
   "source": [
    "## 1. Title of the first task  (<= 55 chars) (sentence case)"
   ]
  },
  {
   "cell_type": "markdown",
   "metadata": {
    "tags": [
     "@context"
    ]
   },
   "source": [
    "An exciting intro to the analysis. Provide context on the problem you're going to solve, the dataset(s) you're going to use, the relevant industry, etc. You may wish to briefly introduce the techniques you're going to use. Tell a story. Get students excited! This will show up in the student's notebook. It should at most have 1200 characters and/or 4 paragraphs.\n",
    "\n",
    "The most common error instructors make in **context cells** is referring to the student or the project. We want project notebooks to appear as a blog post or a data analysis. Bad: *\"In this project, you will...\"* Good: *\"In this notebook, we will...\"* Save the instruction for the `@instructions`, `@hint`, and `@tests` cells, where you can refer the student and the project.\n",
    "\n",
    "Images are welcome additions to every `@context` cell, but especially this first one. Make sure the images you use have a [permissive license](https://support.google.com/websearch/answer/29508?hl=en) then store them in the `img` folder in your GitHub repository and display them using [Markdown](https://github.com/adam-p/markdown-here/wiki/Markdown-Cheatsheet#images)."
   ]
  },
  {
   "cell_type": "markdown",
   "metadata": {
    "tags": [
     "@instructions"
    ]
   },
   "source": [
    "**One** sentence that summarizes the code the student will write in this task.\n",
    "\n",
    "- The specific task instructions go in a bullet point list. One sentence ideally (max 2) per bullet.\n",
    "- Try to map code cell comments to instruction bullets.\n",
    "- At most 4 bullets.\n",
    "\n",
    "<hr>\n",
    "\n",
    "## Good to know\n",
    "\n",
    "You can reference the student (\"you\") and the project in the `@instructions` cells since they appear in the sidebar and not the notebook.\n",
    "\n",
    "The `@instructions` for **task 1** should include a \"Good to know\" section where you direct the student to resources that could be useful _throughout_ the project, as well as the recommended prerequisites. You should also link to resources that are helpful for task 1 specifically. These resources could be external documentation, DataCamp courses and exercises, cheat sheets, Stack Overflow answers, etc. Recommended format for task 1 below.\n",
    "\n",
    "This project lets you apply the skills from [Introduction to the Tidyverse](https://www.datacamp.com/courses/introduction-to-the-tidyverse), including filtering, grouping and summarizing data, and visualizing with ggplot2. We recommend that you take that course before starting this project.\n",
    "\n",
    "Helpful links:\n",
    "- tidyverse [cheat sheet](https://s3.amazonaws.com/assets.datacamp.com/blog_assets/Tidyverse+Cheat+Sheet.pdf)\n",
    "- dplyr's `mutate()` function [documentation](https://www.rdocumentation.org/packages/dplyr/versions/0.5.0/topics/mutate)\n",
    "- Mutate [exercises](https://campus.datacamp.com/courses/introduction-to-the-tidyverse/data-wrangling-1?ex=10) in the Introduction to the Tidyverse course"
   ]
  },
  {
   "cell_type": "markdown",
   "metadata": {
    "tags": [
     "@hint"
    ]
   },
   "source": [
    "Hints are meant for students who are stuck. Since students can't view solutions in projects, clicking the hint button is their last resort. We often recommend including code scaffolding (example below).\n",
    "\n",
    "You can read `path_to/my_data.csv` into a data frame named `my_data` like this after loading the tidyverse package:\n",
    "\n",
    "```r\n",
    "my_data <- read_csv(\"path_to/my_data.csv\")\n",
    "```\n",
    "\n",
    "You can reference the student (\"you\") and the project in the `@hint` cells since they appear in the sidebar and not the notebook."
   ]
  },
  {
   "cell_type": "code",
   "execution_count": null,
   "metadata": {
    "tags": [
     "@sample_code"
    ]
   },
   "outputs": [],
   "source": [
    "# This is the sample code the student will see. It should\n",
    "# consist of up to 10 lines of code and comments, and the\n",
    "# student should have to complete at most 5 lines of code.\n",
    "\n",
    "# Rule of thumb: each bullet point in @instructions should\n",
    "# correspond to a comment in the @sample_code.\n",
    "\n",
    "# Indicate missing code with ....\n",
    "like_this <- ....\n",
    "# or when a line or more is required, like this:\n",
    "# .... YOUR CODE FOR TASK 1 ...."
   ]
  },
  {
   "cell_type": "code",
   "execution_count": null,
   "metadata": {
    "tags": [
     "@solution"
    ]
   },
   "outputs": [],
   "source": [
    "# Your solution code. This won't be shown to the student.\n",
    "\n",
    "# The @solution should mirror the corresponding @sample_code,\n",
    "# but with the missing parts filled in.\n",
    "like_this <- \"missing part filled in\"\n",
    "\n",
    "# It should consist of up to 10 lines of code and comments \n",
    "# and take at most 5 seconds to execute on an average laptop.\n",
    "# Put any files you need to access in the `datasets/` folder and \n",
    "# then reference them with a relative link.\n",
    "\n",
    "# Load the tidyverse\n",
    "library(tidyverse)\n",
    "\n",
    "# Read in the dataset\n",
    "iris <- read.csv(\"datasets/iris.csv\")\n",
    "\n",
    "# Inspect the dataset\n",
    "head(iris)"
   ]
  },
  {
   "cell_type": "code",
   "execution_count": null,
   "metadata": {
    "tags": [
     "@tests"
    ]
   },
   "outputs": [],
   "source": [
    "# These packages need to be loaded in the first @tests cell. \n",
    "library(testthat) \n",
    "library(IRkernel.testthat)\n",
    "\n",
    "# Then follows one or more tests of the student's code. \n",
    "# The @solution should pass the tests.\n",
    "# The purpose of the tests is to try to catch common errors and to \n",
    "# give the student a hint on how to resolve these errors.\n",
    "\n",
    "run_tests({\n",
    "    test_that(\"the answer is correct\", {\n",
    "    expect_true(like_this == \"missing part filled in\", \n",
    "        info = \"The student will see this info if the test fails. You should use 'you' since the tests appear in the sidebar and not the notebook.\")\n",
    "    })\n",
    "    # You can have more than one test\n",
    "})"
   ]
  },
  {
   "cell_type": "markdown",
   "metadata": {
    "tags": [
     "type:NotebookTask"
    ]
   },
   "source": [
    "## 2. Title of the second task (<= 55 chars)  (sentence case)"
   ]
  },
  {
   "cell_type": "markdown",
   "metadata": {
    "tags": [
     "@context"
    ]
   },
   "source": [
    "Context / background / story / etc. This will show up in the student's notebook. It should at most have 800 characters and/or 3 paragraphs.\n",
    "\n",
    "The most common error instructors make in **context cells** is referring to the student or the project. We want project notebooks to appear as a blog post or a data analysis. Bad: *\"In this task, you will...\"* Good: *\"Next, we will...\"* Save the instruction for the `@instructions`, `@hint`, and `@tests` cells, where you can refer the student and the project."
   ]
  },
  {
   "cell_type": "markdown",
   "metadata": {
    "tags": [
     "@instructions"
    ]
   },
   "source": [
    "**One** sentence that summarizes the code the student will write in this task.\n",
    "- The specific task instructions go in a bullet point list. One sentence ideally (max 2) per bullet.\n",
    "- Try to map code cell comments to instruction bullets.\n",
    "- At most 4 bullets.\n",
    "\n",
    "<hr>\n",
    "\n",
    "You can reference the student (\"you\") and the project in the `@instructions` cells since they appear in the sidebar and not the notebook.\n",
    "\n",
    "Provide more info (if necessary) and include links to external resources under the horizontal ruler. The instructions should at most have 600 characters. Example format for links below.\n",
    "\n",
    "Helpful links:\n",
    "- dplyr's mutate() function [documentation](https://www.rdocumentation.org/packages/dplyr/versions/0.5.0/topics/mutate)\n",
    "- Mutate [exercises](https://campus.datacamp.com/courses/introduction-to-the-tidyverse/data-wrangling-1?ex=10) in the Introduction to the Tidyverse course"
   ]
  },
  {
   "cell_type": "markdown",
   "metadata": {
    "tags": [
     "@hint"
    ]
   },
   "source": [
    "Hints are meant for students who are stuck. Since students can't view solutions in projects, clicking the hint button is their last resort. We often recommend including code scaffolding (example below).\n",
    "\n",
    "You can read `path_to/my_data.csv` into a data frame named `my_data` like this after loading the tidyverse package:\n",
    "\n",
    "```r\n",
    "my_data <- read_csv(\"path_to/my_data.csv\")\n",
    "```\n",
    "\n",
    "You can reference the student (\"you\") and the project in the `@hint` cells since they appear in the sidebar and not the notebook."
   ]
  },
  {
   "cell_type": "code",
   "execution_count": null,
   "metadata": {
    "tags": [
     "@sample_code"
    ]
   },
   "outputs": [],
   "source": [
    "# This is the sample code the student will see. It should\n",
    "# consist of up to 10 lines of code and comments, and the\n",
    "# student should have to complete at most 5 lines of code.\n",
    "\n",
    "# Rule of thumb: each bullet point in @instructions should\n",
    "# correspond to a comment in the @sample_code.\n",
    "\n",
    "# Indicate missing code with ....\n",
    "like_this <- ....\n",
    "# or when a line or more is required, like this:\n",
    "# .... YOUR CODE FOR TASK 2 ...."
   ]
  },
  {
   "cell_type": "code",
   "execution_count": null,
   "metadata": {
    "tags": [
     "@solution"
    ]
   },
   "outputs": [],
   "source": [
    "# Your solution code. This won't be shown to the student.\n",
    "\n",
    "# The @solution should mirror the corresponding @sample_code,\n",
    "# but with the missing parts filled in.\n",
    "like_this <- \"missing part filled in\"\n",
    "\n",
    "# It should consist of up to 10 lines of code and comments \n",
    "# and take at most 5 seconds to execute on an average laptop."
   ]
  },
  {
   "cell_type": "code",
   "execution_count": null,
   "metadata": {
    "tags": [
     "@tests"
    ]
   },
   "outputs": [],
   "source": [
    "# One or more tests of the student's code. \n",
    "# The @solution should pass the tests.\n",
    "# The purpose of the tests is to try to catch common errors and to \n",
    "# give the student a hint on how to resolve these errors.\n",
    "run_tests({\n",
    "    test_that(\"the answer is correct\", {\n",
    "    expect_true(like_this == \"missing part filled in\", \n",
    "        info = \"The student will see this info if the test fails. You should use 'you' since the tests appear in the sidebar and not the notebook.\")\n",
    "    })\n",
    "    # You can have more than one test\n",
    "})"
   ]
  },
  {
   "cell_type": "markdown",
   "metadata": {
    "tags": [
     "type:NotebookTask"
    ]
   },
   "source": [
    "## 3. Title of the third task (<= 55 chars)  (sentence case)"
   ]
  },
  {
   "cell_type": "markdown",
   "metadata": {
    "tags": [
     "@context"
    ]
   },
   "source": [
    "Context / background / story / etc. This will show up in the student's notebook. It should at most have 800 characters and/or 3 paragraphs.\n",
    "\n",
    "The most common error instructors make in **context cells** is referring to the student or the project. We want project notebooks to appear as a blog post or a data analysis. Bad: *\"In this task, you will...\"* Good: *\"Next, we will...\"* Save the instruction for the `@instructions`, `@hint`, and `@tests` cells, where you can refer the student and the project."
   ]
  },
  {
   "cell_type": "markdown",
   "metadata": {
    "tags": [
     "@instructions"
    ]
   },
   "source": [
    "**One** sentence that summarizes the code the student will write in this task.\n",
    "- The specific task instructions go in a bullet point list. One sentence ideally (max 2) per bullet.\n",
    "- Try to map code cell comments to instruction bullets.\n",
    "- At most 4 bullets.\n",
    "\n",
    "<hr>\n",
    "\n",
    "You can reference the student (\"you\") and the project in the `@instructions` cells since they appear in the sidebar and not the notebook.\n",
    "\n",
    "Provide more info (if necessary) and include links to external resources under the horizontal ruler. The instructions should at most have 600 characters. Example format for links below.\n",
    "\n",
    "Helpful links:\n",
    "- dplyr's mutate() function [documentation](https://www.rdocumentation.org/packages/dplyr/versions/0.5.0/topics/mutate)\n",
    "- Mutate [exercises](https://campus.datacamp.com/courses/introduction-to-the-tidyverse/data-wrangling-1?ex=10) in the Introduction to the Tidyverse course"
   ]
  },
  {
   "cell_type": "markdown",
   "metadata": {
    "tags": [
     "@hint"
    ]
   },
   "source": [
    "Hints are meant for students who are stuck. Since students can't view solutions in projects, clicking the hint button is their last resort. We often recommend including code scaffolding (example below).\n",
    "\n",
    "You can read `path_to/my_data.csv` into a data frame named `my_data` like this after loading the tidyverse package:\n",
    "\n",
    "```r\n",
    "my_data <- read_csv(\"path_to/my_data.csv\")\n",
    "```\n",
    "\n",
    "You can reference the student (\"you\") and the project in the `@hint` cells since they appear in the sidebar and not the notebook."
   ]
  },
  {
   "cell_type": "code",
   "execution_count": null,
   "metadata": {
    "tags": [
     "@sample_code"
    ]
   },
   "outputs": [],
   "source": [
    "# This is the sample code the student will see. It should\n",
    "# consist of up to 10 lines of code and comments, and the\n",
    "# student should have to complete at most 5 lines of code.\n",
    "\n",
    "# Rule of thumb: each bullet point in @instructions should\n",
    "# correspond to a comment in the @sample_code.\n",
    "\n",
    "# Indicate missing code with ....\n",
    "like_this <- ....\n",
    "# or when a line or more is required, like this:\n",
    "# .... YOUR CODE FOR TASK 3 ...."
   ]
  },
  {
   "cell_type": "code",
   "execution_count": null,
   "metadata": {
    "tags": [
     "@solution"
    ]
   },
   "outputs": [],
   "source": [
    "# Your solution code. This won't be shown to the student.\n",
    "\n",
    "# The @solution should mirror the corresponding @sample_code,\n",
    "# but with the missing parts filled in.\n",
    "like_this <- \"missing part filled in\"\n",
    "\n",
    "# It should consist of up to 10 lines of code and comments \n",
    "# and take at most 5 seconds to execute on an average laptop."
   ]
  },
  {
   "cell_type": "code",
   "execution_count": null,
   "metadata": {
    "tags": [
     "@tests"
    ]
   },
   "outputs": [],
   "source": [
    "# One or more tests of the student's code. \n",
    "# The @solution should pass the tests.\n",
    "# The purpose of the tests is to try to catch common errors and to \n",
    "# give the student a hint on how to resolve these errors.\n",
    "run_tests({\n",
    "    test_that(\"the answer is correct\", {\n",
    "    expect_true(like_this == \"missing part filled in\", \n",
    "        info = \"The student will see this info if the test fails. You should use 'you' since the tests appear in the sidebar and not the notebook.\")\n",
    "    })\n",
    "    # You can have more than one test\n",
    "})"
   ]
  },
  {
   "cell_type": "markdown",
   "metadata": {
    "tags": [
     "type:NotebookTask"
    ]
   },
   "source": [
    "## 4. Title of the fourth task (<= 55 chars)  (sentence case)"
   ]
  },
  {
   "cell_type": "markdown",
   "metadata": {
    "tags": [
     "@context"
    ]
   },
   "source": [
    "Context / background / story / etc. This will show up in the student's notebook. It should at most have 800 characters and/or 3 paragraphs.\n",
    "\n",
    "The most common error instructors make in **context cells** is referring to the student or the project. We want project notebooks to appear as a blog post or a data analysis. Bad: *\"In this task, you will...\"* Good: *\"Next, we will...\"* Save the instruction for the `@instructions`, `@hint`, and `@tests` cells, where you can refer the student and the project."
   ]
  },
  {
   "cell_type": "markdown",
   "metadata": {
    "tags": [
     "@instructions"
    ]
   },
   "source": [
    "**One** sentence that summarizes the code the student will write in this task.\n",
    "- The specific task instructions go in a bullet point list. One sentence ideally (max 2) per bullet.\n",
    "- Try to map code cell comments to instruction bullets.\n",
    "- At most 4 bullets.\n",
    "\n",
    "<hr>\n",
    "\n",
    "You can reference the student (\"you\") and the project in the `@instructions` cells since they appear in the sidebar and not the notebook.\n",
    "\n",
    "Provide more info (if necessary) and include links to external resources under the horizontal ruler. The instructions should at most have 600 characters. Example format for links below.\n",
    "\n",
    "Helpful links:\n",
    "- dplyr's mutate() function [documentation](https://www.rdocumentation.org/packages/dplyr/versions/0.5.0/topics/mutate)\n",
    "- Mutate [exercises](https://campus.datacamp.com/courses/introduction-to-the-tidyverse/data-wrangling-1?ex=10) in the Introduction to the Tidyverse course"
   ]
  },
  {
   "cell_type": "markdown",
   "metadata": {
    "tags": [
     "@hint"
    ]
   },
   "source": [
    "Hints are meant for students who are stuck. Since students can't view solutions in projects, clicking the hint button is their last resort. We often recommend including code scaffolding (example below).\n",
    "\n",
    "You can read `path_to/my_data.csv` into a data frame named `my_data` like this after loading the tidyverse package:\n",
    "\n",
    "```r\n",
    "my_data <- read_csv(\"path_to/my_data.csv\")\n",
    "```\n",
    "\n",
    "You can reference the student (\"you\") and the project in the `@hint` cells since they appear in the sidebar and not the notebook."
   ]
  },
  {
   "cell_type": "code",
   "execution_count": null,
   "metadata": {
    "tags": [
     "@sample_code"
    ]
   },
   "outputs": [],
   "source": [
    "# This is the sample code the student will see. It should\n",
    "# consist of up to 10 lines of code and comments, and the\n",
    "# student should have to complete at most 5 lines of code.\n",
    "\n",
    "# Rule of thumb: each bullet point in @instructions should\n",
    "# correspond to a comment in the @sample_code.\n",
    "\n",
    "# Indicate missing code with ....\n",
    "like_this <- ....\n",
    "# or when a line or more is required, like this:\n",
    "# .... YOUR CODE FOR TASK 4 ...."
   ]
  },
  {
   "cell_type": "code",
   "execution_count": null,
   "metadata": {
    "tags": [
     "@solution"
    ]
   },
   "outputs": [],
   "source": [
    "# Your solution code. This won't be shown to the student.\n",
    "\n",
    "# The @solution should mirror the corresponding @sample_code,\n",
    "# but with the missing parts filled in.\n",
    "like_this <- \"missing part filled in\"\n",
    "\n",
    "# It should consist of up to 10 lines of code and comments \n",
    "# and take at most 5 seconds to execute on an average laptop."
   ]
  },
  {
   "cell_type": "code",
   "execution_count": null,
   "metadata": {
    "tags": [
     "@tests"
    ]
   },
   "outputs": [],
   "source": [
    "# One or more tests of the student's code. \n",
    "# The @solution should pass the tests.\n",
    "# The purpose of the tests is to try to catch common errors and to \n",
    "# give the student a hint on how to resolve these errors.\n",
    "run_tests({\n",
    "    test_that(\"the answer is correct\", {\n",
    "    expect_true(like_this == \"missing part filled in\", \n",
    "        info = \"The student will see this info if the test fails. You should use 'you' since the tests appear in the sidebar and not the notebook.\")\n",
    "    })\n",
    "    # You can have more than one test\n",
    "})"
   ]
  },
  {
   "cell_type": "markdown",
   "metadata": {
    "tags": [
     "type:NotebookTask"
    ]
   },
   "source": [
    "## 5. Title of the fifth task (<= 55 chars)  (sentence case)"
   ]
  },
  {
   "cell_type": "markdown",
   "metadata": {
    "tags": [
     "@context"
    ]
   },
   "source": [
    "Context / background / story / etc. This will show up in the student's notebook. It should at most have 800 characters and/or 3 paragraphs.\n",
    "\n",
    "The most common error instructors make in **context cells** is referring to the student or the project. We want project notebooks to appear as a blog post or a data analysis. Bad: *\"In this task, you will...\"* Good: *\"Next, we will...\"* Save the instruction for the `@instructions`, `@hint`, and `@tests` cells, where you can refer the student and the project."
   ]
  },
  {
   "cell_type": "markdown",
   "metadata": {
    "tags": [
     "@instructions"
    ]
   },
   "source": [
    "**One** sentence that summarizes the code the student will write in this task.\n",
    "- The specific task instructions go in a bullet point list. One sentence ideally (max 2) per bullet.\n",
    "- Try to map code cell comments to instruction bullets.\n",
    "- At most 4 bullets.\n",
    "\n",
    "<hr>\n",
    "\n",
    "You can reference the student (\"you\") and the project in the `@instructions` cells since they appear in the sidebar and not the notebook.\n",
    "\n",
    "Provide more info (if necessary) and include links to external resources under the horizontal ruler. The instructions should at most have 600 characters. Example format for links below.\n",
    "\n",
    "Helpful links:\n",
    "- dplyr's mutate() function [documentation](https://www.rdocumentation.org/packages/dplyr/versions/0.5.0/topics/mutate)\n",
    "- Mutate [exercises](https://campus.datacamp.com/courses/introduction-to-the-tidyverse/data-wrangling-1?ex=10) in the Introduction to the Tidyverse course"
   ]
  },
  {
   "cell_type": "markdown",
   "metadata": {
    "tags": [
     "@hint"
    ]
   },
   "source": [
    "Hints are meant for students who are stuck. Since students can't view solutions in projects, clicking the hint button is their last resort. We often recommend including code scaffolding (example below).\n",
    "\n",
    "You can read `path_to/my_data.csv` into a data frame named `my_data` like this after loading the tidyverse package:\n",
    "\n",
    "```r\n",
    "my_data <- read_csv(\"path_to/my_data.csv\")\n",
    "```\n",
    "\n",
    "You can reference the student (\"you\") and the project in the `@hint` cells since they appear in the sidebar and not the notebook."
   ]
  },
  {
   "cell_type": "code",
   "execution_count": null,
   "metadata": {
    "tags": [
     "@sample_code"
    ]
   },
   "outputs": [],
   "source": [
    "# This is the sample code the student will see. It should\n",
    "# consist of up to 10 lines of code and comments, and the\n",
    "# student should have to complete at most 5 lines of code.\n",
    "\n",
    "# Rule of thumb: each bullet point in @instructions should\n",
    "# correspond to a comment in the @sample_code.\n",
    "\n",
    "# Indicate missing code with ....\n",
    "like_this <- ....\n",
    "# or when a line or more is required, like this:\n",
    "# .... YOUR CODE FOR TASK 5 ...."
   ]
  },
  {
   "cell_type": "code",
   "execution_count": null,
   "metadata": {
    "tags": [
     "@solution"
    ]
   },
   "outputs": [],
   "source": [
    "# Your solution code. This won't be shown to the student.\n",
    "\n",
    "# The @solution should mirror the corresponding @sample_code,\n",
    "# but with the missing parts filled in.\n",
    "like_this <- \"missing part filled in\"\n",
    "\n",
    "# It should consist of up to 10 lines of code and comments \n",
    "# and take at most 5 seconds to execute on an average laptop."
   ]
  },
  {
   "cell_type": "code",
   "execution_count": null,
   "metadata": {
    "tags": [
     "@tests"
    ]
   },
   "outputs": [],
   "source": [
    "# One or more tests of the student's code.  \n",
    "# The @solution should pass the tests.\n",
    "# The purpose of the tests is to try to catch common errors and to \n",
    "# give the student a hint on how to resolve these errors.\n",
    "run_tests({\n",
    "    test_that(\"the answer is correct\", {\n",
    "    expect_true(like_this == \"missing part filled in\", \n",
    "        info = \"The student will see this info if the test fails. You should use 'you' since the tests appear in the sidebar and not the notebook.\")\n",
    "    })\n",
    "    # You can have more than one test\n",
    "})"
   ]
  },
  {
   "cell_type": "markdown",
   "metadata": {
    "tags": [
     "type:NotebookTask"
    ]
   },
   "source": [
    "## 6. Title of the sixth task (<= 55 chars)  (sentence case)"
   ]
  },
  {
   "cell_type": "markdown",
   "metadata": {
    "tags": [
     "@context"
    ]
   },
   "source": [
    "Context / background / story / etc. This will show up in the student's notebook. It should at most have 800 characters and/or 3 paragraphs.\n",
    "\n",
    "The most common error instructors make in **context cells** is referring to the student or the project. We want project notebooks to appear as a blog post or a data analysis. Bad: *\"In this task, you will...\"* Good: *\"Next, we will...\"* Save the instruction for the `@instructions`, `@hint`, and `@tests` cells, where you can refer the student and the project."
   ]
  },
  {
   "cell_type": "markdown",
   "metadata": {
    "tags": [
     "@instructions"
    ]
   },
   "source": [
    "**One** sentence that summarizes the code the student will write in this task.\n",
    "- The specific task instructions go in a bullet point list. One sentence ideally (max 2) per bullet.\n",
    "- Try to map code cell comments to instruction bullets.\n",
    "- At most 4 bullets.\n",
    "\n",
    "<hr>\n",
    "\n",
    "You can reference the student (\"you\") and the project in the `@instructions` cells since they appear in the sidebar and not the notebook.\n",
    "\n",
    "Provide more info (if necessary) and include links to external resources under the horizontal ruler. The instructions should at most have 600 characters. Example format for links below.\n",
    "\n",
    "Helpful links:\n",
    "- dplyr's mutate() function [documentation](https://www.rdocumentation.org/packages/dplyr/versions/0.5.0/topics/mutate)\n",
    "- Mutate [exercises](https://campus.datacamp.com/courses/introduction-to-the-tidyverse/data-wrangling-1?ex=10) in the Introduction to the Tidyverse course"
   ]
  },
  {
   "cell_type": "markdown",
   "metadata": {
    "tags": [
     "@hint"
    ]
   },
   "source": [
    "Hints are meant for students who are stuck. Since students can't view solutions in projects, clicking the hint button is their last resort. We often recommend including code scaffolding (example below).\n",
    "\n",
    "You can read `path_to/my_data.csv` into a data frame named `my_data` like this after loading the tidyverse package:\n",
    "\n",
    "```r\n",
    "my_data <- read_csv(\"path_to/my_data.csv\")\n",
    "```\n",
    "\n",
    "You can reference the student (\"you\") and the project in the `@hint` cells since they appear in the sidebar and not the notebook."
   ]
  },
  {
   "cell_type": "code",
   "execution_count": null,
   "metadata": {
    "tags": [
     "@sample_code"
    ]
   },
   "outputs": [],
   "source": [
    "# This is the sample code the student will see. It should\n",
    "# consist of up to 10 lines of code and comments, and the\n",
    "# student should have to complete at most 5 lines of code.\n",
    "\n",
    "# Rule of thumb: each bullet point in @instructions should\n",
    "# correspond to a comment in the @sample_code.\n",
    "\n",
    "# Indicate missing code with ....\n",
    "like_this <- ....\n",
    "# or when a line or more is required, like this:\n",
    "# .... YOUR CODE FOR TASK 6 ...."
   ]
  },
  {
   "cell_type": "code",
   "execution_count": null,
   "metadata": {
    "tags": [
     "@solution"
    ]
   },
   "outputs": [],
   "source": [
    "# Your solution code. This won't be shown to the student.\n",
    "\n",
    "# The @solution should mirror the corresponding @sample_code,\n",
    "# but with the missing parts filled in.\n",
    "like_this <- \"missing part filled in\"\n",
    "\n",
    "# It should consist of up to 10 lines of code and comments \n",
    "# and take at most 5 seconds to execute on an average laptop."
   ]
  },
  {
   "cell_type": "code",
   "execution_count": null,
   "metadata": {
    "tags": [
     "@tests"
    ]
   },
   "outputs": [],
   "source": [
    "# One or more tests of the student's code. \n",
    "# The @solution should pass the tests.\n",
    "# The purpose of the tests is to try to catch common errors and to \n",
    "# give the student a hint on how to resolve these errors.\n",
    "run_tests({\n",
    "    test_that(\"the answer is correct\", {\n",
    "    expect_true(like_this == \"missing part filled in\", \n",
    "        info = \"The student will see this info if the test fails. You should use 'you' since the tests appear in the sidebar and not the notebook.\")\n",
    "    })\n",
    "    # You can have more than one test\n",
    "})"
   ]
  },
  {
   "cell_type": "markdown",
   "metadata": {
    "tags": [
     "type:NotebookTask"
    ]
   },
   "source": [
    "## 7. Title of the seventh task (<= 55 chars)  (sentence case)"
   ]
  },
  {
   "cell_type": "markdown",
   "metadata": {
    "tags": [
     "@context"
    ]
   },
   "source": [
    "Context / background / story / etc. This will show up in the student's notebook. It should at most have 800 characters and/or 3 paragraphs.\n",
    "\n",
    "The most common error instructors make in **context cells** is referring to the student or the project. We want project notebooks to appear as a blog post or a data analysis. Bad: *\"In this task, you will...\"* Good: *\"Next, we will...\"* Save the instruction for the `@instructions`, `@hint`, and `@tests` cells, where you can refer the student and the project."
   ]
  },
  {
   "cell_type": "markdown",
   "metadata": {
    "tags": [
     "@instructions"
    ]
   },
   "source": [
    "**One** sentence that summarizes the code the student will write in this task.\n",
    "- The specific task instructions go in a bullet point list. One sentence ideally (max 2) per bullet.\n",
    "- Try to map code cell comments to instruction bullets.\n",
    "- At most 4 bullets.\n",
    "\n",
    "<hr>\n",
    "\n",
    "You can reference the student (\"you\") and the project in the `@instructions` cells since they appear in the sidebar and not the notebook.\n",
    "\n",
    "Provide more info (if necessary) and include links to external resources under the horizontal ruler. The instructions should at most have 600 characters. Example format for links below.\n",
    "\n",
    "Helpful links:\n",
    "- dplyr's mutate() function [documentation](https://www.rdocumentation.org/packages/dplyr/versions/0.5.0/topics/mutate)\n",
    "- Mutate [exercises](https://campus.datacamp.com/courses/introduction-to-the-tidyverse/data-wrangling-1?ex=10) in the Introduction to the Tidyverse course"
   ]
  },
  {
   "cell_type": "markdown",
   "metadata": {
    "tags": [
     "@hint"
    ]
   },
   "source": [
    "Hints are meant for students who are stuck. Since students can't view solutions in projects, clicking the hint button is their last resort. We often recommend including code scaffolding (example below).\n",
    "\n",
    "You can read `path_to/my_data.csv` into a data frame named `my_data` like this after loading the tidyverse package:\n",
    "\n",
    "```r\n",
    "my_data <- read_csv(\"path_to/my_data.csv\")\n",
    "```\n",
    "\n",
    "You can reference the student (\"you\") and the project in the `@hint` cells since they appear in the sidebar and not the notebook."
   ]
  },
  {
   "cell_type": "code",
   "execution_count": null,
   "metadata": {
    "tags": [
     "@sample_code"
    ]
   },
   "outputs": [],
   "source": [
    "# This is the sample code the student will see. It should\n",
    "# consist of up to 10 lines of code and comments, and the\n",
    "# student should have to complete at most 5 lines of code.\n",
    "\n",
    "# Rule of thumb: each bullet point in @instructions should\n",
    "# correspond to a comment in the @sample_code.\n",
    "\n",
    "# Indicate missing code with ...\n",
    "like_this <- ....\n",
    "# or when a line or more is required, like this:\n",
    "# .... YOUR CODE FOR TASK 7 ...."
   ]
  },
  {
   "cell_type": "code",
   "execution_count": null,
   "metadata": {
    "tags": [
     "@solution"
    ]
   },
   "outputs": [],
   "source": [
    "# Your solution code. This won't be shown to the student.\n",
    "\n",
    "# The @solution should mirror the corresponding @sample_code,\n",
    "# but with the missing parts filled in.\n",
    "like_this <- \"missing part filled in\"\n",
    "\n",
    "# It should consist of up to 10 lines of code and comments \n",
    "# and take at most 5 seconds to execute on an average laptop."
   ]
  },
  {
   "cell_type": "code",
   "execution_count": null,
   "metadata": {
    "tags": [
     "@tests"
    ]
   },
   "outputs": [],
   "source": [
    "# One or more tests of the student's code.\n",
    "# The @solution should pass the tests.\n",
    "# The purpose of the tests is to try to catch common errors and to \n",
    "# give the student a hint on how to resolve these errors.\n",
    "run_tests({\n",
    "    test_that(\"the answer is correct\", {\n",
    "    expect_true(like_this == \"missing part filled in\", \n",
    "        info = \"The student will see this info if the test fails. You should use 'you' since the tests appear in the sidebar and not the notebook.\")\n",
    "    })\n",
    "    # You can have more than one test\n",
    "})"
   ]
  },
  {
   "cell_type": "markdown",
   "metadata": {
    "tags": [
     "type:NotebookTask"
    ]
   },
   "source": [
    "## 8. Title of the eighth task (<= 55 chars)  (sentence case)"
   ]
  },
  {
   "cell_type": "markdown",
   "metadata": {
    "tags": [
     "@context"
    ]
   },
   "source": [
    "Context / background / story / etc. This will show up in the student's notebook. It should at most have 800 characters and/or 3 paragraphs.\n",
    "\n",
    "The most common error instructors make in **context cells** is referring to the student or the project. We want project notebooks to appear as a blog post or a data analysis. Bad: *\"In this task, you will...\"* Good: *\"Next, we will...\"* Save the instruction for the `@instructions`, `@hint`, and `@tests` cells, where you can refer the student and the project."
   ]
  },
  {
   "cell_type": "markdown",
   "metadata": {
    "tags": [
     "@instructions"
    ]
   },
   "source": [
    "**One** sentence that summarizes the code the student will write in this task.\n",
    "- The specific task instructions go in a bullet point list. One sentence ideally (max 2) per bullet.\n",
    "- Try to map code cell comments to instruction bullets.\n",
    "- At most 4 bullets.\n",
    "\n",
    "<hr>\n",
    "\n",
    "You can reference the student (\"you\") and the project in the `@instructions` cells since they appear in the sidebar and not the notebook.\n",
    "\n",
    "Provide more info (if necessary) and include links to external resources under the horizontal ruler. The instructions should at most have 600 characters. Example format for links below.\n",
    "\n",
    "Helpful links:\n",
    "- dplyr's mutate() function [documentation](https://www.rdocumentation.org/packages/dplyr/versions/0.5.0/topics/mutate)\n",
    "- Mutate [exercises](https://campus.datacamp.com/courses/introduction-to-the-tidyverse/data-wrangling-1?ex=10) in the Introduction to the Tidyverse course"
   ]
  },
  {
   "cell_type": "markdown",
   "metadata": {
    "tags": [
     "@hint"
    ]
   },
   "source": [
    "Hints are meant for students who are stuck. Since students can't view solutions in projects, clicking the hint button is their last resort. We often recommend including code scaffolding (example below).\n",
    "\n",
    "You can read `path_to/my_data.csv` into a data frame named `my_data` like this after loading the tidyverse package:\n",
    "\n",
    "```r\n",
    "my_data <- read_csv(\"path_to/my_data.csv\")\n",
    "```\n",
    "\n",
    "You can reference the student (\"you\") and the project in the `@hint` cells since they appear in the sidebar and not the notebook."
   ]
  },
  {
   "cell_type": "code",
   "execution_count": null,
   "metadata": {
    "tags": [
     "@sample_code"
    ]
   },
   "outputs": [],
   "source": [
    "# This is the sample code the student will see. It should\n",
    "# consist of up to 10 lines of code and comments, and the\n",
    "# student should have to complete at most 5 lines of code.\n",
    "\n",
    "# Rule of thumb: each bullet point in @instructions should\n",
    "# correspond to a comment in the @sample_code.\n",
    "\n",
    "# Indicate missing code with ...\n",
    "like_this <- ....\n",
    "# or when a line or more is required, like this:\n",
    "# .... YOUR CODE FOR TASK 8 ...."
   ]
  },
  {
   "cell_type": "code",
   "execution_count": null,
   "metadata": {
    "tags": [
     "@solution"
    ]
   },
   "outputs": [],
   "source": [
    "# Your solution code. This won't be shown to the student.\n",
    "\n",
    "# The @solution should mirror the corresponding @sample_code,\n",
    "# but with the missing parts filled in.\n",
    "like_this <- \"missing part filled in\"\n",
    "\n",
    "# It should consist of up to 10 lines of code and comments \n",
    "# and take at most 5 seconds to execute on an average laptop."
   ]
  },
  {
   "cell_type": "code",
   "execution_count": null,
   "metadata": {
    "tags": [
     "@tests"
    ]
   },
   "outputs": [],
   "source": [
    "# One or more tests of the student's code. \n",
    "# The @solution should pass the tests.\n",
    "# The purpose of the tests is to try to catch common errors and to \n",
    "# give the student a hint on how to resolve these errors.\n",
    "run_tests({\n",
    "    test_that(\"the answer is correct\", {\n",
    "    expect_true(like_this == \"missing part filled in\", \n",
    "        info = \"The student will see this info if the test fails. You should use 'you' since the tests appear in the sidebar and not the notebook.\")\n",
    "    })\n",
    "    # You can have more than one test\n",
    "})"
   ]
  },
  {
   "cell_type": "markdown",
   "metadata": {},
   "source": [
    "*The recommended number of tasks in a DataCamp project is between 8 and 10, so feel free to add more if necessary. You can't have more than 12 tasks.*"
   ]
  }
 ],
 "metadata": {
  "celltoolbar": "Tags",
  "kernelspec": {
   "display_name": "R",
   "language": "R",
   "name": "ir"
  },
  "language_info": {
   "codemirror_mode": "r",
   "file_extension": ".r",
   "mimetype": "text/x-r-source",
   "name": "R",
   "pygments_lexer": "r",
   "version": "3.5.0"
  }
 },
 "nbformat": 4,
 "nbformat_minor": 2
}
